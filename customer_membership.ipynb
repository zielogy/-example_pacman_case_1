{
 "cells": [
  {
   "cell_type": "code",
   "execution_count": 1,
   "id": "a25126ca",
   "metadata": {},
   "outputs": [
    {
     "name": "stdout",
     "output_type": "stream",
     "text": [
      "Collecting tabulate\n",
      "  Downloading tabulate-0.9.0-py3-none-any.whl.metadata (34 kB)\n",
      "Downloading tabulate-0.9.0-py3-none-any.whl (35 kB)\n",
      "Installing collected packages: tabulate\n",
      "Successfully installed tabulate-0.9.0\n"
     ]
    }
   ],
   "source": [
    "!pip install tabulate"
   ]
  },
  {
   "cell_type": "code",
   "execution_count": 2,
   "id": "09e09c9e",
   "metadata": {},
   "outputs": [],
   "source": [
    "from tabulate import tabulate\n",
    "\n",
    "# square root, untuk menghitung euclidean distance\n",
    "from math import sqrt"
   ]
  },
  {
   "cell_type": "code",
   "execution_count": 3,
   "id": "ee424aea",
   "metadata": {},
   "outputs": [],
   "source": [
    "class Membership:\n",
    "    \n",
    "    # inisialisasi data\n",
    "    \n",
    "    # inisialisai attribute\n",
    "    def __init__(self, username, monthly_income, monthly_expense):\n",
    "        self.username = username\n",
    "        self.monthly_income = monthly_income\n",
    "        self.monthly_expense = monthly_expense\n",
    "        \n",
    "    # method untuk menampilkan benefit membership\n",
    "    def show_benefit(self):\n",
    "        print(\"Benefit Membership PacCommerce\\n\")\n",
    "        tables = [\n",
    "            [\"Platinum\", \"15%\", \"Benefit Gold + Silver + Cashback max. 30%\"],\n",
    "            [\"Gold\", \"10%\", \"Benefit Silver + Voucher Ojek Online\"],\n",
    "            [\"Silver\", \"8%\", \"Voucher Makanan\"],\n",
    "        ]\n",
    "\n",
    "        headers = [\"Membership\", \"Discount\", \"Another Benefit\"]\n",
    "        \n",
    "        print(tabulate(tables, headers, tablefmt='github', stralign=\"center\"))\n",
    "\n",
    "        \n",
    "    # method untuk menampilkan requirements membership\n",
    "    def show_requirements(self):\n",
    "        tables = [\n",
    "            [\"Platinum\", 8, 15],\n",
    "            [\"Gold\", 6, 10],\n",
    "            [\"Silver\", 5, 7],\n",
    "        ]\n",
    "        print(\"\\nRequirements Membership PacCommerce\\n\")\n",
    "\n",
    "        headers = [\"Membership\", \"Monthly Expense (juta)\", \"Monthly Income (juta)\"]\n",
    "        print(tabulate(tables, headers, tablefmt='github', numalign=\"center\"))\n",
    "        \n",
    "    # method untuk melakukan prediksi membership\n",
    "    # menggunakan euclidean distance\n",
    "    def predict_membership(self):\n",
    "        monthly_expense = self.monthly_expense\n",
    "        monthly_income = self.monthly_income\n",
    "        \n",
    "        silver = [5,7]\n",
    "        gold = [6,10]\n",
    "        platinum = [8,15]\n",
    "        \n",
    "        dist_silv = sqrt((monthly_expense - silver[0])**2+ (monthly_income - silver[1])**2)\n",
    "        dist_plat = sqrt((monthly_expense - platinum[0])**2+ (monthly_income- platinum[1])**2)\n",
    "        dist_gold = sqrt((monthly_expense - gold[0])**2+ (monthly_income - gold[1])**2)\n",
    "        \n",
    "        if dist_silv <= dist_gold and dist_silv <= dist_plat:\n",
    "            print (\"Silver Membership\")\n",
    "            return \"Silver Membership\"\n",
    "        elif dist_gold <= dist_silv and dist_gold <= dist_plat:\n",
    "            print (\"Gold Membership\")\n",
    "            return \"Gold Membership\"\n",
    "        else:\n",
    "            print (\"Platinum Membership\")\n",
    "            return \"Platinum Membership\"\n",
    "            \n",
    "    \n",
    "    # method untuk menampilkan membership yang dimiliki\n",
    "    # dari database yang dimiliki\n",
    "    def calculate_price(self):\n",
    "        prices = [100_000, 500_000, 300_000]\n",
    "        \n",
    "        member = self.predict_membership()\n",
    "        \n",
    "        discount = 0\n",
    "        if member == \"Silver Membership\":\n",
    "            discount = 0.08\n",
    "        elif member == \"Gold Membership\":\n",
    "            discount = 0.1\n",
    "        elif member == \"Platinum Membership\":\n",
    "            discount = 0.15\n",
    "        \n",
    "        final_price = []\n",
    "        arr = 0\n",
    "        for x in prices:\n",
    "            arr = x * (1-discount)\n",
    "            final_price.append(arr)\n",
    "        print (final_price)\n",
    "            \n",
    "    \n",
    "    # method untuk menghitung final price berdasarkan membership\n",
    "    ..."
   ]
  },
  {
   "cell_type": "code",
   "execution_count": 4,
   "id": "1abed454",
   "metadata": {},
   "outputs": [],
   "source": [
    "# membuat Instance\n",
    "user_1 = Membership(\"Pacman\", 10, 7)"
   ]
  },
  {
   "cell_type": "code",
   "execution_count": 5,
   "id": "d1bac229",
   "metadata": {},
   "outputs": [
    {
     "name": "stdout",
     "output_type": "stream",
     "text": [
      "Benefit Membership PacCommerce\n",
      "\n",
      "|  Membership  |  Discount  |              Another Benefit              |\n",
      "|--------------|------------|-------------------------------------------|\n",
      "|   Platinum   |    15%     | Benefit Gold + Silver + Cashback max. 30% |\n",
      "|     Gold     |    10%     |   Benefit Silver + Voucher Ojek Online    |\n",
      "|    Silver    |     8%     |              Voucher Makanan              |\n",
      "\n",
      "Requirements Membership PacCommerce\n",
      "\n",
      "| Membership   |  Monthly Expense (juta)  |  Monthly Income (juta)  |\n",
      "|--------------|--------------------------|-------------------------|\n",
      "| Platinum     |            8             |           15            |\n",
      "| Gold         |            6             |           10            |\n",
      "| Silver       |            5             |            7            |\n",
      "Gold Membership\n",
      "Gold Membership\n",
      "[90000.0, 450000.0, 270000.0]\n"
     ]
    }
   ],
   "source": [
    "# isi titik - titik di bawah ini\n",
    "user_1.show_benefit()\n",
    "user_1.show_requirements()\n",
    "user_1.predict_membership()\n",
    "user_1.calculate_price()"
   ]
  },
  {
   "cell_type": "code",
   "execution_count": null,
   "id": "2d9ede61",
   "metadata": {},
   "outputs": [],
   "source": []
  }
 ],
 "metadata": {
  "kernelspec": {
   "display_name": "Python 3",
   "language": "python",
   "name": "python3"
  },
  "language_info": {
   "codemirror_mode": {
    "name": "ipython",
    "version": 3
   },
   "file_extension": ".py",
   "mimetype": "text/x-python",
   "name": "python",
   "nbconvert_exporter": "python",
   "pygments_lexer": "ipython3",
   "version": "3.12.2"
  }
 },
 "nbformat": 4,
 "nbformat_minor": 5
}
